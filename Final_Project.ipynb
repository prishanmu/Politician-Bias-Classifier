{
  "nbformat": 4,
  "nbformat_minor": 0,
  "metadata": {
    "kernelspec": {
      "language": "python",
      "display_name": "Python 3",
      "name": "python3"
    },
    "language_info": {
      "pygments_lexer": "ipython3",
      "nbconvert_exporter": "python",
      "version": "3.6.4",
      "file_extension": ".py",
      "codemirror_mode": {
        "name": "ipython",
        "version": 3
      },
      "name": "python",
      "mimetype": "text/x-python"
    },
    "colab": {
      "name": "Final_Project.ipynb",
      "provenance": [],
      "include_colab_link": true
    }
  },
  "cells": [
    {
      "cell_type": "markdown",
      "metadata": {
        "id": "view-in-github",
        "colab_type": "text"
      },
      "source": [
        "<a href=\"https://colab.research.google.com/github/prishanmu/SI670_FinalProject/blob/master/Final_Project.ipynb\" target=\"_parent\"><img src=\"https://colab.research.google.com/assets/colab-badge.svg\" alt=\"Open In Colab\"/></a>"
      ]
    },
    {
      "cell_type": "code",
      "metadata": {
        "_uuid": "8f2839f25d086af736a60e9eeb907d3b93b6e0e5",
        "_cell_guid": "b1076dfc-b9ad-4769-8c92-a6c4dae69d19",
        "trusted": true,
        "id": "_2goWAj3m83s",
        "colab_type": "code",
        "colab": {},
        "outputId": "47fb2566-0e11-437a-cf95-a6d0f95b4b78"
      },
      "source": [
        "# This Python 3 environment comes with many helpful analytics libraries installed\n",
        "# It is defined by the kaggle/python docker image: https://github.com/kaggle/docker-python\n",
        "# For example, here's several helpful packages to load in \n",
        "\n",
        "import numpy as np # linear algebra\n",
        "import pandas as pd # data proces1sing, CSV file I/O (e.g. pd.read_csv)\n",
        "from nltk.tokenize import word_tokenize\n",
        "from nltk.corpus import stopwords\n",
        "from nltk.classify.scikitlearn import SklearnClassifier\n",
        "from sklearn import model_selection\n",
        "import nltk\n",
        "from sklearn.preprocessing import MinMaxScaler\n",
        "from sklearn.preprocessing import LabelEncoder\n",
        "from sklearn.naive_bayes import MultinomialNB\n",
        "from sklearn.feature_extraction.text import TfidfVectorizer\n",
        "from sklearn.metrics import classification_report, confusion_matrix\n",
        "from wordcloud import WordCloud\n",
        "import matplotlib.pyplot as plt\n",
        "\n",
        "# Input data files are available in the \"../input/\" directory.\n",
        "# For example, running this (by clicking run or pressing Shift+Enter) will list all files under the input directory\n",
        "\n",
        "import os\n",
        "for dirname, _, filenames in os.walk('/kaggle/input'):\n",
        "    for filename in filenames:\n",
        "        print(os.path.join(dirname, filename))\n",
        "\n",
        "# Any results you write to the current directory are saved as output.\n",
        "\n",
        "data = pd.read_csv(\"../input/political-social-media-posts/political_social_media.csv\", encoding = \"ISO-8859-1\")\n",
        "data = data.drop(columns = ['_golden', '_unit_state', 'orig__golden', 'audience_gold', 'embed', 'message_gold', '_last_judgment_at', 'bias_gold', 'id', '_unit_id', '_trusted_judgments'])\n",
        "data.head()"
      ],
      "execution_count": null,
      "outputs": [
        {
          "output_type": "stream",
          "text": [
            "/kaggle/input/political-social-media-posts/political_social_media.csv\n"
          ],
          "name": "stdout"
        },
        {
          "output_type": "execute_result",
          "data": {
            "text/plain": [
              "   audience  audience:confidence      bias  bias:confidence  message  \\\n",
              "0  national                  1.0  partisan              1.0   policy   \n",
              "1  national                  1.0  partisan              1.0   attack   \n",
              "2  national                  1.0   neutral              1.0  support   \n",
              "3  national                  1.0   neutral              1.0   policy   \n",
              "4  national                  1.0  partisan              1.0   policy   \n",
              "\n",
              "   message:confidence    bioid  \\\n",
              "0                 1.0  R000596   \n",
              "1                 1.0  M000355   \n",
              "2                 1.0  S001180   \n",
              "3                 1.0  C000880   \n",
              "4                 1.0  U000038   \n",
              "\n",
              "                                              label   source  \\\n",
              "0    From: Trey Radel (Representative from Florida)  twitter   \n",
              "1     From: Mitch McConnell (Senator from Kentucky)  twitter   \n",
              "2  From: Kurt Schrader (Representative from Oregon)  twitter   \n",
              "3          From: Michael Crapo (Senator from Idaho)  twitter   \n",
              "4          From: Mark Udall (Senator from Colorado)  twitter   \n",
              "\n",
              "                                                text  \n",
              "0  RT @nowthisnews: Rep. Trey Radel (R- #FL) slam...  \n",
              "1  VIDEO - #Obamacare:  Full of Higher Costs and ...  \n",
              "2  Please join me today in remembering our fallen...  \n",
              "3  RT @SenatorLeahy: 1st step toward Senate debat...  \n",
              "4  .@amazon delivery #drones show need to update ...  "
            ],
            "text/html": [
              "<div>\n",
              "<style scoped>\n",
              "    .dataframe tbody tr th:only-of-type {\n",
              "        vertical-align: middle;\n",
              "    }\n",
              "\n",
              "    .dataframe tbody tr th {\n",
              "        vertical-align: top;\n",
              "    }\n",
              "\n",
              "    .dataframe thead th {\n",
              "        text-align: right;\n",
              "    }\n",
              "</style>\n",
              "<table border=\"1\" class=\"dataframe\">\n",
              "  <thead>\n",
              "    <tr style=\"text-align: right;\">\n",
              "      <th></th>\n",
              "      <th>audience</th>\n",
              "      <th>audience:confidence</th>\n",
              "      <th>bias</th>\n",
              "      <th>bias:confidence</th>\n",
              "      <th>message</th>\n",
              "      <th>message:confidence</th>\n",
              "      <th>bioid</th>\n",
              "      <th>label</th>\n",
              "      <th>source</th>\n",
              "      <th>text</th>\n",
              "    </tr>\n",
              "  </thead>\n",
              "  <tbody>\n",
              "    <tr>\n",
              "      <th>0</th>\n",
              "      <td>national</td>\n",
              "      <td>1.0</td>\n",
              "      <td>partisan</td>\n",
              "      <td>1.0</td>\n",
              "      <td>policy</td>\n",
              "      <td>1.0</td>\n",
              "      <td>R000596</td>\n",
              "      <td>From: Trey Radel (Representative from Florida)</td>\n",
              "      <td>twitter</td>\n",
              "      <td>RT @nowthisnews: Rep. Trey Radel (R- #FL) slam...</td>\n",
              "    </tr>\n",
              "    <tr>\n",
              "      <th>1</th>\n",
              "      <td>national</td>\n",
              "      <td>1.0</td>\n",
              "      <td>partisan</td>\n",
              "      <td>1.0</td>\n",
              "      <td>attack</td>\n",
              "      <td>1.0</td>\n",
              "      <td>M000355</td>\n",
              "      <td>From: Mitch McConnell (Senator from Kentucky)</td>\n",
              "      <td>twitter</td>\n",
              "      <td>VIDEO - #Obamacare:  Full of Higher Costs and ...</td>\n",
              "    </tr>\n",
              "    <tr>\n",
              "      <th>2</th>\n",
              "      <td>national</td>\n",
              "      <td>1.0</td>\n",
              "      <td>neutral</td>\n",
              "      <td>1.0</td>\n",
              "      <td>support</td>\n",
              "      <td>1.0</td>\n",
              "      <td>S001180</td>\n",
              "      <td>From: Kurt Schrader (Representative from Oregon)</td>\n",
              "      <td>twitter</td>\n",
              "      <td>Please join me today in remembering our fallen...</td>\n",
              "    </tr>\n",
              "    <tr>\n",
              "      <th>3</th>\n",
              "      <td>national</td>\n",
              "      <td>1.0</td>\n",
              "      <td>neutral</td>\n",
              "      <td>1.0</td>\n",
              "      <td>policy</td>\n",
              "      <td>1.0</td>\n",
              "      <td>C000880</td>\n",
              "      <td>From: Michael Crapo (Senator from Idaho)</td>\n",
              "      <td>twitter</td>\n",
              "      <td>RT @SenatorLeahy: 1st step toward Senate debat...</td>\n",
              "    </tr>\n",
              "    <tr>\n",
              "      <th>4</th>\n",
              "      <td>national</td>\n",
              "      <td>1.0</td>\n",
              "      <td>partisan</td>\n",
              "      <td>1.0</td>\n",
              "      <td>policy</td>\n",
              "      <td>1.0</td>\n",
              "      <td>U000038</td>\n",
              "      <td>From: Mark Udall (Senator from Colorado)</td>\n",
              "      <td>twitter</td>\n",
              "      <td>.@amazon delivery #drones show need to update ...</td>\n",
              "    </tr>\n",
              "  </tbody>\n",
              "</table>\n",
              "</div>"
            ]
          },
          "metadata": {
            "tags": []
          },
          "execution_count": 1
        }
      ]
    },
    {
      "cell_type": "code",
      "metadata": {
        "trusted": true,
        "id": "pNCSwx9em834",
        "colab_type": "code",
        "colab": {},
        "outputId": "ab5de105-46ba-4bd9-d40c-d33398285fc7"
      },
      "source": [
        "##########################\n",
        "### FILTERING & ENCODING\n",
        "##########################\n",
        "\n",
        "###Filter out any rows with less than confidence than 1 for any measure\n",
        "data = data[data['audience:confidence'] == 1.0]\n",
        "data = data[data['bias:confidence'] == 1.0]\n",
        "data = data[data['message:confidence'] == 1.0]\n",
        "data = data.drop(['audience:confidence', 'bias:confidence','message:confidence' ], axis=1)\n",
        "\n",
        "###Split and extract info from label column\n",
        "data[['pol_name','pol_info']] = data.label.str.split(\"\\(\",expand=True) \n",
        "from_split = data.pol_info.str.split(\"from\",expand=True) \n",
        "from_split[1] = from_split[1].str.replace(r'\\)$', '')\n",
        "data['pol_type'] = from_split[0]\n",
        "data['pol_state'] = from_split[1]\n",
        "data = data.drop(['label', 'pol_name','pol_info' ], axis=1)\n",
        "\n",
        "###Encode messages and pol_state with get_dummies\n",
        "data = pd.concat([data,pd.get_dummies(data['message'], prefix='message')],axis=1).drop(['message'],axis=1)\n",
        "data = pd.concat([data,pd.get_dummies(data['pol_state'], prefix='pol_state')],axis=1).drop(['pol_state'],axis=1)\n",
        "\n",
        "###Encode pol_type, bioid, audience, bias, and source isth LabelEncoder\n",
        "encoder = LabelEncoder()\n",
        "\n",
        "pol_type_encoded = encoder.fit_transform(data['pol_type'])\n",
        "data['pol_type'] = pol_type_encoded\n",
        "\n",
        "audience_encoded = encoder.fit_transform(data['audience'])\n",
        "data['audience'] = audience_encoded\n",
        "\n",
        "bias_encoded = encoder.fit_transform(data['bias'])\n",
        "data['bias'] = bias_encoded\n",
        "\n",
        "source_encoded = encoder.fit_transform(data['source'])\n",
        "data['source'] = source_encoded\n",
        "\n",
        "bioid_encoded = encoder.fit_transform(data['bioid'])\n",
        "data['bioid'] = bioid_encoded\n",
        "\n",
        "data.head()"
      ],
      "execution_count": null,
      "outputs": [
        {
          "output_type": "execute_result",
          "data": {
            "text/plain": [
              "   audience  bias  bioid  source  \\\n",
              "0         1     1    396       1   \n",
              "1         1     1    289       1   \n",
              "2         1     0    430       1   \n",
              "3         1     0     63       1   \n",
              "4         1     1    462       1   \n",
              "\n",
              "                                                text  pol_type  \\\n",
              "0  RT @nowthisnews: Rep. Trey Radel (R- #FL) slam...         0   \n",
              "1  VIDEO - #Obamacare:  Full of Higher Costs and ...         1   \n",
              "2  Please join me today in remembering our fallen...         0   \n",
              "3  RT @SenatorLeahy: 1st step toward Senate debat...         1   \n",
              "4  .@amazon delivery #drones show need to update ...         1   \n",
              "\n",
              "   message_attack  message_constituency  message_information  message_media  \\\n",
              "0               0                     0                    0              0   \n",
              "1               1                     0                    0              0   \n",
              "2               0                     0                    0              0   \n",
              "3               0                     0                    0              0   \n",
              "4               0                     0                    0              0   \n",
              "\n",
              "   ...  pol_state_ South Dakota  pol_state_ Tennessee  pol_state_ Texas  \\\n",
              "0  ...                        0                     0                 0   \n",
              "1  ...                        0                     0                 0   \n",
              "2  ...                        0                     0                 0   \n",
              "3  ...                        0                     0                 0   \n",
              "4  ...                        0                     0                 0   \n",
              "\n",
              "   pol_state_ Utah  pol_state_ Vermont  pol_state_ Virginia  \\\n",
              "0                0                   0                    0   \n",
              "1                0                   0                    0   \n",
              "2                0                   0                    0   \n",
              "3                0                   0                    0   \n",
              "4                0                   0                    0   \n",
              "\n",
              "   pol_state_ Washington  pol_state_ West Virginia  pol_state_ Wisconsin  \\\n",
              "0                      0                         0                     0   \n",
              "1                      0                         0                     0   \n",
              "2                      0                         0                     0   \n",
              "3                      0                         0                     0   \n",
              "4                      0                         0                     0   \n",
              "\n",
              "   pol_state_ Wyoming  \n",
              "0                   0  \n",
              "1                   0  \n",
              "2                   0  \n",
              "3                   0  \n",
              "4                   0  \n",
              "\n",
              "[5 rows x 66 columns]"
            ],
            "text/html": [
              "<div>\n",
              "<style scoped>\n",
              "    .dataframe tbody tr th:only-of-type {\n",
              "        vertical-align: middle;\n",
              "    }\n",
              "\n",
              "    .dataframe tbody tr th {\n",
              "        vertical-align: top;\n",
              "    }\n",
              "\n",
              "    .dataframe thead th {\n",
              "        text-align: right;\n",
              "    }\n",
              "</style>\n",
              "<table border=\"1\" class=\"dataframe\">\n",
              "  <thead>\n",
              "    <tr style=\"text-align: right;\">\n",
              "      <th></th>\n",
              "      <th>audience</th>\n",
              "      <th>bias</th>\n",
              "      <th>bioid</th>\n",
              "      <th>source</th>\n",
              "      <th>text</th>\n",
              "      <th>pol_type</th>\n",
              "      <th>message_attack</th>\n",
              "      <th>message_constituency</th>\n",
              "      <th>message_information</th>\n",
              "      <th>message_media</th>\n",
              "      <th>...</th>\n",
              "      <th>pol_state_ South Dakota</th>\n",
              "      <th>pol_state_ Tennessee</th>\n",
              "      <th>pol_state_ Texas</th>\n",
              "      <th>pol_state_ Utah</th>\n",
              "      <th>pol_state_ Vermont</th>\n",
              "      <th>pol_state_ Virginia</th>\n",
              "      <th>pol_state_ Washington</th>\n",
              "      <th>pol_state_ West Virginia</th>\n",
              "      <th>pol_state_ Wisconsin</th>\n",
              "      <th>pol_state_ Wyoming</th>\n",
              "    </tr>\n",
              "  </thead>\n",
              "  <tbody>\n",
              "    <tr>\n",
              "      <th>0</th>\n",
              "      <td>1</td>\n",
              "      <td>1</td>\n",
              "      <td>396</td>\n",
              "      <td>1</td>\n",
              "      <td>RT @nowthisnews: Rep. Trey Radel (R- #FL) slam...</td>\n",
              "      <td>0</td>\n",
              "      <td>0</td>\n",
              "      <td>0</td>\n",
              "      <td>0</td>\n",
              "      <td>0</td>\n",
              "      <td>...</td>\n",
              "      <td>0</td>\n",
              "      <td>0</td>\n",
              "      <td>0</td>\n",
              "      <td>0</td>\n",
              "      <td>0</td>\n",
              "      <td>0</td>\n",
              "      <td>0</td>\n",
              "      <td>0</td>\n",
              "      <td>0</td>\n",
              "      <td>0</td>\n",
              "    </tr>\n",
              "    <tr>\n",
              "      <th>1</th>\n",
              "      <td>1</td>\n",
              "      <td>1</td>\n",
              "      <td>289</td>\n",
              "      <td>1</td>\n",
              "      <td>VIDEO - #Obamacare:  Full of Higher Costs and ...</td>\n",
              "      <td>1</td>\n",
              "      <td>1</td>\n",
              "      <td>0</td>\n",
              "      <td>0</td>\n",
              "      <td>0</td>\n",
              "      <td>...</td>\n",
              "      <td>0</td>\n",
              "      <td>0</td>\n",
              "      <td>0</td>\n",
              "      <td>0</td>\n",
              "      <td>0</td>\n",
              "      <td>0</td>\n",
              "      <td>0</td>\n",
              "      <td>0</td>\n",
              "      <td>0</td>\n",
              "      <td>0</td>\n",
              "    </tr>\n",
              "    <tr>\n",
              "      <th>2</th>\n",
              "      <td>1</td>\n",
              "      <td>0</td>\n",
              "      <td>430</td>\n",
              "      <td>1</td>\n",
              "      <td>Please join me today in remembering our fallen...</td>\n",
              "      <td>0</td>\n",
              "      <td>0</td>\n",
              "      <td>0</td>\n",
              "      <td>0</td>\n",
              "      <td>0</td>\n",
              "      <td>...</td>\n",
              "      <td>0</td>\n",
              "      <td>0</td>\n",
              "      <td>0</td>\n",
              "      <td>0</td>\n",
              "      <td>0</td>\n",
              "      <td>0</td>\n",
              "      <td>0</td>\n",
              "      <td>0</td>\n",
              "      <td>0</td>\n",
              "      <td>0</td>\n",
              "    </tr>\n",
              "    <tr>\n",
              "      <th>3</th>\n",
              "      <td>1</td>\n",
              "      <td>0</td>\n",
              "      <td>63</td>\n",
              "      <td>1</td>\n",
              "      <td>RT @SenatorLeahy: 1st step toward Senate debat...</td>\n",
              "      <td>1</td>\n",
              "      <td>0</td>\n",
              "      <td>0</td>\n",
              "      <td>0</td>\n",
              "      <td>0</td>\n",
              "      <td>...</td>\n",
              "      <td>0</td>\n",
              "      <td>0</td>\n",
              "      <td>0</td>\n",
              "      <td>0</td>\n",
              "      <td>0</td>\n",
              "      <td>0</td>\n",
              "      <td>0</td>\n",
              "      <td>0</td>\n",
              "      <td>0</td>\n",
              "      <td>0</td>\n",
              "    </tr>\n",
              "    <tr>\n",
              "      <th>4</th>\n",
              "      <td>1</td>\n",
              "      <td>1</td>\n",
              "      <td>462</td>\n",
              "      <td>1</td>\n",
              "      <td>.@amazon delivery #drones show need to update ...</td>\n",
              "      <td>1</td>\n",
              "      <td>0</td>\n",
              "      <td>0</td>\n",
              "      <td>0</td>\n",
              "      <td>0</td>\n",
              "      <td>...</td>\n",
              "      <td>0</td>\n",
              "      <td>0</td>\n",
              "      <td>0</td>\n",
              "      <td>0</td>\n",
              "      <td>0</td>\n",
              "      <td>0</td>\n",
              "      <td>0</td>\n",
              "      <td>0</td>\n",
              "      <td>0</td>\n",
              "      <td>0</td>\n",
              "    </tr>\n",
              "  </tbody>\n",
              "</table>\n",
              "<p>5 rows × 66 columns</p>\n",
              "</div>"
            ]
          },
          "metadata": {
            "tags": []
          },
          "execution_count": 2
        }
      ]
    },
    {
      "cell_type": "code",
      "metadata": {
        "trusted": true,
        "id": "CLY482CUm83_",
        "colab_type": "code",
        "colab": {}
      },
      "source": [
        "########################\n",
        "### TEXT PRE-PROCESSING\n",
        "########################\n",
        "\n",
        "#Using regular expressions to remove URLs, numbers etc\n",
        "processed = data['text'].str.replace(r'^.+@[^\\.].*\\.[a-z]{2,}$',' ')\n",
        "processed = processed.str.replace(r'^http\\://[a-zA-Z0-9\\-\\.]+\\.[a-zA-Z]{2,3}(/\\S*)?$',' ')\n",
        "processed = processed.str.replace(r'http',' ')\n",
        "processed = processed.str.replace(r'£|\\$', ' ')\n",
        "processed = processed.str.replace(r'^\\(?[\\d]{3}\\)?[\\s-]?[\\d]{3}[\\s-]?[\\d]{4}$',' ')\n",
        "processed = processed.str.replace(r'\\d+(\\.\\d+)?', ' ')\n",
        "processed = processed.str.replace(r'[^\\w\\d\\s]', ' ')\n",
        "processed = processed.str.replace(r'\\s+', ' ')\n",
        "processed = processed.str.replace(r'^\\s+|\\s+?$', ' ')\n",
        "processed = processed.str.lower()\n",
        "\n",
        "#Removing stop words from text\n",
        "stop_words = set(stopwords.words('english'))\n",
        "processed = processed.apply(lambda x: ' '.join(\n",
        "    term for term in x.split() if term not in stop_words))\n",
        "\n",
        "#Removing meaningless words from text\n",
        "processed = processed.apply(lambda x: ' '.join(\n",
        "    term for term in x.split() if term not in ['ûªs', 'û', 'ûªt', 'r', 'en', 'fl', 'p', 'va', 'amp', 'icymi', 'th', 'pm', 'hours', 'u']))\n"
      ],
      "execution_count": null,
      "outputs": []
    },
    {
      "cell_type": "code",
      "metadata": {
        "trusted": true,
        "id": "2nmcgbaPm84E",
        "colab_type": "code",
        "colab": {},
        "outputId": "aa822c86-8dbb-43bd-ff87-5def13bec890"
      },
      "source": [
        "########################\n",
        "### TEXT PROCESSING\n",
        "########################\n",
        "\n",
        "MAXFEATURES = 2000\n",
        "\n",
        "tfidf_vect = TfidfVectorizer(max_features = MAXFEATURES)\n",
        "\n",
        "text_tfidf = tfidf_vect.fit_transform(data['text'])\n",
        "text_tfidf = pd.DataFrame(text_tfidf.toarray())\n",
        "\n",
        "data = pd.concat([data,text_tfidf],axis=1).drop(['text'],axis=1)\n",
        "data.head()"
      ],
      "execution_count": null,
      "outputs": [
        {
          "output_type": "execute_result",
          "data": {
            "text/plain": [
              "   audience  bias  bioid  source  pol_type  message_attack  \\\n",
              "0       1.0   1.0  396.0     1.0       0.0             0.0   \n",
              "1       1.0   1.0  289.0     1.0       1.0             1.0   \n",
              "2       1.0   0.0  430.0     1.0       0.0             0.0   \n",
              "3       1.0   0.0   63.0     1.0       1.0             0.0   \n",
              "4       1.0   1.0  462.0     1.0       1.0             0.0   \n",
              "\n",
              "   message_constituency  message_information  message_media  \\\n",
              "0                   0.0                  0.0            0.0   \n",
              "1                   0.0                  0.0            0.0   \n",
              "2                   0.0                  0.0            0.0   \n",
              "3                   0.0                  0.0            0.0   \n",
              "4                   0.0                  0.0            0.0   \n",
              "\n",
              "   message_mobilization  ...  1990  1991      1992  1993  1994  1995  1996  \\\n",
              "0                   0.0  ...   0.0   0.0  0.000000   0.0   0.0   0.0   0.0   \n",
              "1                   0.0  ...   0.0   0.0  0.000000   0.0   0.0   0.0   0.0   \n",
              "2                   0.0  ...   0.0   0.0  0.000000   0.0   0.0   0.0   0.0   \n",
              "3                   0.0  ...   0.0   0.0  0.158558   0.0   0.0   0.0   0.0   \n",
              "4                   0.0  ...   0.0   0.0  0.000000   0.0   0.0   0.0   0.0   \n",
              "\n",
              "   1997  1998  1999  \n",
              "0   0.0   0.0   0.0  \n",
              "1   0.0   0.0   0.0  \n",
              "2   0.0   0.0   0.0  \n",
              "3   0.0   0.0   0.0  \n",
              "4   0.0   0.0   0.0  \n",
              "\n",
              "[5 rows x 2065 columns]"
            ],
            "text/html": [
              "<div>\n",
              "<style scoped>\n",
              "    .dataframe tbody tr th:only-of-type {\n",
              "        vertical-align: middle;\n",
              "    }\n",
              "\n",
              "    .dataframe tbody tr th {\n",
              "        vertical-align: top;\n",
              "    }\n",
              "\n",
              "    .dataframe thead th {\n",
              "        text-align: right;\n",
              "    }\n",
              "</style>\n",
              "<table border=\"1\" class=\"dataframe\">\n",
              "  <thead>\n",
              "    <tr style=\"text-align: right;\">\n",
              "      <th></th>\n",
              "      <th>audience</th>\n",
              "      <th>bias</th>\n",
              "      <th>bioid</th>\n",
              "      <th>source</th>\n",
              "      <th>pol_type</th>\n",
              "      <th>message_attack</th>\n",
              "      <th>message_constituency</th>\n",
              "      <th>message_information</th>\n",
              "      <th>message_media</th>\n",
              "      <th>message_mobilization</th>\n",
              "      <th>...</th>\n",
              "      <th>1990</th>\n",
              "      <th>1991</th>\n",
              "      <th>1992</th>\n",
              "      <th>1993</th>\n",
              "      <th>1994</th>\n",
              "      <th>1995</th>\n",
              "      <th>1996</th>\n",
              "      <th>1997</th>\n",
              "      <th>1998</th>\n",
              "      <th>1999</th>\n",
              "    </tr>\n",
              "  </thead>\n",
              "  <tbody>\n",
              "    <tr>\n",
              "      <th>0</th>\n",
              "      <td>1.0</td>\n",
              "      <td>1.0</td>\n",
              "      <td>396.0</td>\n",
              "      <td>1.0</td>\n",
              "      <td>0.0</td>\n",
              "      <td>0.0</td>\n",
              "      <td>0.0</td>\n",
              "      <td>0.0</td>\n",
              "      <td>0.0</td>\n",
              "      <td>0.0</td>\n",
              "      <td>...</td>\n",
              "      <td>0.0</td>\n",
              "      <td>0.0</td>\n",
              "      <td>0.000000</td>\n",
              "      <td>0.0</td>\n",
              "      <td>0.0</td>\n",
              "      <td>0.0</td>\n",
              "      <td>0.0</td>\n",
              "      <td>0.0</td>\n",
              "      <td>0.0</td>\n",
              "      <td>0.0</td>\n",
              "    </tr>\n",
              "    <tr>\n",
              "      <th>1</th>\n",
              "      <td>1.0</td>\n",
              "      <td>1.0</td>\n",
              "      <td>289.0</td>\n",
              "      <td>1.0</td>\n",
              "      <td>1.0</td>\n",
              "      <td>1.0</td>\n",
              "      <td>0.0</td>\n",
              "      <td>0.0</td>\n",
              "      <td>0.0</td>\n",
              "      <td>0.0</td>\n",
              "      <td>...</td>\n",
              "      <td>0.0</td>\n",
              "      <td>0.0</td>\n",
              "      <td>0.000000</td>\n",
              "      <td>0.0</td>\n",
              "      <td>0.0</td>\n",
              "      <td>0.0</td>\n",
              "      <td>0.0</td>\n",
              "      <td>0.0</td>\n",
              "      <td>0.0</td>\n",
              "      <td>0.0</td>\n",
              "    </tr>\n",
              "    <tr>\n",
              "      <th>2</th>\n",
              "      <td>1.0</td>\n",
              "      <td>0.0</td>\n",
              "      <td>430.0</td>\n",
              "      <td>1.0</td>\n",
              "      <td>0.0</td>\n",
              "      <td>0.0</td>\n",
              "      <td>0.0</td>\n",
              "      <td>0.0</td>\n",
              "      <td>0.0</td>\n",
              "      <td>0.0</td>\n",
              "      <td>...</td>\n",
              "      <td>0.0</td>\n",
              "      <td>0.0</td>\n",
              "      <td>0.000000</td>\n",
              "      <td>0.0</td>\n",
              "      <td>0.0</td>\n",
              "      <td>0.0</td>\n",
              "      <td>0.0</td>\n",
              "      <td>0.0</td>\n",
              "      <td>0.0</td>\n",
              "      <td>0.0</td>\n",
              "    </tr>\n",
              "    <tr>\n",
              "      <th>3</th>\n",
              "      <td>1.0</td>\n",
              "      <td>0.0</td>\n",
              "      <td>63.0</td>\n",
              "      <td>1.0</td>\n",
              "      <td>1.0</td>\n",
              "      <td>0.0</td>\n",
              "      <td>0.0</td>\n",
              "      <td>0.0</td>\n",
              "      <td>0.0</td>\n",
              "      <td>0.0</td>\n",
              "      <td>...</td>\n",
              "      <td>0.0</td>\n",
              "      <td>0.0</td>\n",
              "      <td>0.158558</td>\n",
              "      <td>0.0</td>\n",
              "      <td>0.0</td>\n",
              "      <td>0.0</td>\n",
              "      <td>0.0</td>\n",
              "      <td>0.0</td>\n",
              "      <td>0.0</td>\n",
              "      <td>0.0</td>\n",
              "    </tr>\n",
              "    <tr>\n",
              "      <th>4</th>\n",
              "      <td>1.0</td>\n",
              "      <td>1.0</td>\n",
              "      <td>462.0</td>\n",
              "      <td>1.0</td>\n",
              "      <td>1.0</td>\n",
              "      <td>0.0</td>\n",
              "      <td>0.0</td>\n",
              "      <td>0.0</td>\n",
              "      <td>0.0</td>\n",
              "      <td>0.0</td>\n",
              "      <td>...</td>\n",
              "      <td>0.0</td>\n",
              "      <td>0.0</td>\n",
              "      <td>0.000000</td>\n",
              "      <td>0.0</td>\n",
              "      <td>0.0</td>\n",
              "      <td>0.0</td>\n",
              "      <td>0.0</td>\n",
              "      <td>0.0</td>\n",
              "      <td>0.0</td>\n",
              "      <td>0.0</td>\n",
              "    </tr>\n",
              "  </tbody>\n",
              "</table>\n",
              "<p>5 rows × 2065 columns</p>\n",
              "</div>"
            ]
          },
          "metadata": {
            "tags": []
          },
          "execution_count": 4
        }
      ]
    },
    {
      "cell_type": "markdown",
      "metadata": {
        "id": "vxKJZcIjm84K",
        "colab_type": "text"
      },
      "source": [
        "Below borrowed from [this kernel](https://www.kaggle.com/laiquet/neutral-and-partisan-tweets-posts)"
      ]
    },
    {
      "cell_type": "markdown",
      "metadata": {
        "id": "KYoMxii5m84L",
        "colab_type": "text"
      },
      "source": [
        "# Our stuff:"
      ]
    },
    {
      "cell_type": "markdown",
      "metadata": {
        "id": "1LkbcZT0m84M",
        "colab_type": "text"
      },
      "source": [
        "## Preprocessing"
      ]
    },
    {
      "cell_type": "code",
      "metadata": {
        "trusted": true,
        "id": "qxl1UH6km84M",
        "colab_type": "code",
        "colab": {}
      },
      "source": [
        "data = data.dropna()"
      ],
      "execution_count": null,
      "outputs": []
    },
    {
      "cell_type": "code",
      "metadata": {
        "trusted": true,
        "id": "tShgUbIom84R",
        "colab_type": "code",
        "colab": {}
      },
      "source": [
        "#train-test split\n",
        "from sklearn.model_selection import train_test_split\n",
        "X = data.drop(columns = ['bias'])\n",
        "y = data['bias']\n",
        "\n",
        "X_train, X_test, y_train, y_test = train_test_split(X, y, test_size=0.25, random_state=0)"
      ],
      "execution_count": null,
      "outputs": []
    },
    {
      "cell_type": "markdown",
      "metadata": {
        "id": "S1XlR8aom84W",
        "colab_type": "text"
      },
      "source": [
        "## Classifier Models"
      ]
    },
    {
      "cell_type": "code",
      "metadata": {
        "trusted": true,
        "id": "LtVAklnJm84b",
        "colab_type": "code",
        "colab": {}
      },
      "source": [
        "#import statements\n",
        "from sklearn.model_selection import GridSearchCV\n",
        "from sklearn.metrics import precision_recall_fscore_support"
      ],
      "execution_count": null,
      "outputs": []
    },
    {
      "cell_type": "markdown",
      "metadata": {
        "id": "oGpbq9qrpv5X",
        "colab_type": "text"
      },
      "source": [
        "### Linear SVM"
      ]
    },
    {
      "cell_type": "code",
      "metadata": {
        "trusted": true,
        "id": "vJA84miym84h",
        "colab_type": "code",
        "colab": {}
      },
      "source": [
        "# Linear SVM\n",
        "from sklearn.svm import LinearSVC\n",
        "\n",
        "#lsvc = LinearSVC(random_state = 0) #penalty, loss, C"
      ],
      "execution_count": null,
      "outputs": []
    },
    {
      "cell_type": "code",
      "metadata": {
        "trusted": true,
        "id": "Nrrw6oMzm84m",
        "colab_type": "code",
        "colab": {}
      },
      "source": [
        "# Linear SVM Grid Search\n",
        "\n",
        "lsvc = LinearSVC()\n",
        "\n",
        "param_grid = {\n",
        "    'penalty': ['l2'],\n",
        "    'C': [.01,.1, 1],\n",
        "    'loss' : [\"squared_hinge\", \"hinge\"]\n",
        "}\n",
        "\n",
        "CV_lsvc = GridSearchCV(estimator=lsvc, param_grid=param_grid, cv = 5)\n",
        "CV_lsvc.fit(X_train, y_train)\n",
        "\n",
        "print(CV_lsvc.best_params_)\n",
        "print(CV_lsvc.best_score_)"
      ],
      "execution_count": null,
      "outputs": []
    },
    {
      "cell_type": "code",
      "metadata": {
        "trusted": true,
        "id": "vcbPRo-0m84s",
        "colab_type": "code",
        "colab": {}
      },
      "source": [
        "clf = LinearSVC(C=1, loss='hinge', penalty='l2', random_state=0)\n",
        "clf.fit(X_train, y_train)\n",
        "y_pred = clf.predict(X_test)\n",
        "precision_recall_fscore_support(y_test, y_pred, average='macro')"
      ],
      "execution_count": null,
      "outputs": []
    },
    {
      "cell_type": "markdown",
      "metadata": {
        "id": "YjFeMydbp0VM",
        "colab_type": "text"
      },
      "source": [
        "### Kernelized SVM"
      ]
    },
    {
      "cell_type": "code",
      "metadata": {
        "trusted": true,
        "id": "dxb_3p0wm84x",
        "colab_type": "code",
        "colab": {}
      },
      "source": [
        "# Kernelized SVM\n",
        "from sklearn.svm import SVC\n",
        "\n",
        "#svc = SVC(random_state =0)\n"
      ],
      "execution_count": null,
      "outputs": []
    },
    {
      "cell_type": "code",
      "metadata": {
        "trusted": true,
        "id": "C_y9LEz-m842",
        "colab_type": "code",
        "colab": {}
      },
      "source": [
        "#Kernelied SVM Grid Search \n",
        "\n",
        "svm = SVC()\n",
        "\n",
        "param_grid = {\n",
        "     'max_iter':[-1],#change\n",
        "     'degree':[7],#change\n",
        "     'C': [1.0]#change\n",
        " }\n",
        "\n",
        "CV_svm = GridSearchCV(estimator=svm, param_grid=param_grid, cv = 5)\n",
        "CV_svm.fit(X_train, y_train)\n",
        "print(CV_svm.best_params_)"
      ],
      "execution_count": null,
      "outputs": []
    },
    {
      "cell_type": "code",
      "metadata": {
        "trusted": true,
        "id": "omGJDWH2m849",
        "colab_type": "code",
        "colab": {}
      },
      "source": [
        "clf = SVC(C=1.0, degree = 7, max_iter = -1, random_state=0)\n",
        "clf.fit(X_train, y_train)\n",
        "y_pred = clf.predict(X_test)\n",
        "precision_recall_fscore_support(y_test, y_pred, average='weighted')"
      ],
      "execution_count": null,
      "outputs": []
    },
    {
      "cell_type": "code",
      "metadata": {
        "trusted": true,
        "id": "EbwKwHZlm85B",
        "colab_type": "code",
        "colab": {}
      },
      "source": [
        "print(CV_svm.best_score_)"
      ],
      "execution_count": null,
      "outputs": []
    },
    {
      "cell_type": "markdown",
      "metadata": {
        "id": "vdfNhkFap3nI",
        "colab_type": "text"
      },
      "source": [
        "### Logistic Regression"
      ]
    },
    {
      "cell_type": "code",
      "metadata": {
        "trusted": true,
        "id": "p10vhahKm85E",
        "colab_type": "code",
        "colab": {}
      },
      "source": [
        "#Logistic Regression\n",
        "from sklearn.linear_model import LogisticRegression\n",
        "\n",
        "#lg = LogisticRegression(random_state = 0)"
      ],
      "execution_count": null,
      "outputs": []
    },
    {
      "cell_type": "code",
      "metadata": {
        "trusted": true,
        "id": "PPHfMyEsm85J",
        "colab_type": "code",
        "colab": {}
      },
      "source": [
        "# Logistic Regression Grid Search\n",
        "lg = LogisticRegression() \n",
        "\n",
        "param_grid = { \n",
        "    'C': [1,10,100, 200],\n",
        "    \"penalty\":[\"l1\",\"l2\"]\n",
        "}\n",
        "\n",
        "CV_lg = GridSearchCV(estimator=lg, param_grid=param_grid, cv= 5)\n",
        "CV_lg.fit(X_train, y_train)\n",
        "print(CV_lg.best_params_)\n",
        "print(CV_lg.best_score_)"
      ],
      "execution_count": null,
      "outputs": []
    },
    {
      "cell_type": "code",
      "metadata": {
        "trusted": true,
        "id": "nRy61QRem85N",
        "colab_type": "code",
        "colab": {}
      },
      "source": [
        "clf = LogisticRegression(C=1, penalty= 'l1', random_state=0)\n",
        "clf.fit(X_train, y_train)\n",
        "y_pred = clf.predict(X_test)\n",
        "precision_recall_fscore_support(y_test, y_pred, average='macro')"
      ],
      "execution_count": null,
      "outputs": []
    },
    {
      "cell_type": "markdown",
      "metadata": {
        "id": "thkycwYep54i",
        "colab_type": "text"
      },
      "source": [
        "### Random Forest Classifier"
      ]
    },
    {
      "cell_type": "code",
      "metadata": {
        "trusted": true,
        "id": "6pHklC9im85R",
        "colab_type": "code",
        "colab": {}
      },
      "source": [
        "# Random Forest\n",
        "from sklearn.ensemble import RandomForestClassifier\n",
        "\n",
        "#rfc = RandomForestClassifier(random_state = 0)"
      ],
      "execution_count": null,
      "outputs": []
    },
    {
      "cell_type": "code",
      "metadata": {
        "trusted": true,
        "id": "tM5iRn5nm85V",
        "colab_type": "code",
        "colab": {}
      },
      "source": [
        "#Random Forest Grid Search\n",
        "rfc = RandomForestClassifier() \n",
        "\n",
        "param_grid = { \n",
        "    'n_estimators': [15, 20, 30],#change these\n",
        "    'max_depth':[15, 20, 30]#change these\n",
        "}\n",
        "\n",
        "CV_rfc = GridSearchCV(estimator=rfc, param_grid=param_grid, cv= 5)\n",
        "CV_rfc.fit(X_train, y_train)\n",
        "print(CV_rfc.best_params_)\n",
        "print(CV_rfc.best_score_)"
      ],
      "execution_count": null,
      "outputs": []
    },
    {
      "cell_type": "code",
      "metadata": {
        "trusted": true,
        "id": "XI_O5NX7m85Z",
        "colab_type": "code",
        "colab": {}
      },
      "source": [
        "clf = RandomForestClassifier(max_depth=30, n_estimators=20, random_state=0)\n",
        "clf.fit(X_train, y_train)\n",
        "y_pred = clf.predict(X_test)\n",
        "precision_recall_fscore_support(y_test, y_pred, average='macro')"
      ],
      "execution_count": null,
      "outputs": []
    },
    {
      "cell_type": "markdown",
      "metadata": {
        "id": "13LK0e82m85d",
        "colab_type": "text"
      },
      "source": [
        "## Clustering & Bias Prediction"
      ]
    },
    {
      "cell_type": "code",
      "metadata": {
        "trusted": true,
        "id": "X4gjaIp4m85e",
        "colab_type": "code",
        "colab": {}
      },
      "source": [
        "#elbow graph\n",
        "\n",
        "from sklearn.cluster import KMeans\n",
        "import seaborn as sns\n",
        "import matplotlib.pyplot as plt\n",
        "%matplotlib inline\n",
        "from sklearn import metrics\n",
        "\n",
        "cost = []\n",
        "for k in range(2,10):\n",
        "    k_means = KMeans(init='k-means++', n_clusters=k, n_init=10)\n",
        "    k_means.fit(data) #fit to dataframe\n",
        "    cost.append(k_means.inertia_)\n",
        "\n",
        "fig, ax = plt.subplots()\n",
        "plt.plot(range(2,10), cost, 'b*-')\n",
        "plt.xlim(1, plt.xlim()[1])"
      ],
      "execution_count": null,
      "outputs": []
    },
    {
      "cell_type": "code",
      "metadata": {
        "trusted": true,
        "id": "pQG9kf3Dm85i",
        "colab_type": "code",
        "colab": {}
      },
      "source": [
        "#testing with n clusters\n",
        "n = 4\n",
        "c_data = data.drop(columns = ['bias', 'bioid']) #remove bias from clustering algorithim to test later\n",
        "\n",
        "kmeans = KMeans(n_clusters=n, random_state=0) \n",
        "kmeans.fit(c_data)"
      ],
      "execution_count": null,
      "outputs": []
    },
    {
      "cell_type": "code",
      "metadata": {
        "trusted": true,
        "id": "0tiQ0L-lm85l",
        "colab_type": "code",
        "colab": {}
      },
      "source": [
        "c_data['cluster'] = kmeans.labels_\n",
        "c_data.groupby('cluster').mean().transpose()"
      ],
      "execution_count": null,
      "outputs": []
    },
    {
      "cell_type": "code",
      "metadata": {
        "trusted": true,
        "id": "bqN4L6IDm85q",
        "colab_type": "code",
        "colab": {}
      },
      "source": [
        "x = c_data.groupby('cluster').mean()"
      ],
      "execution_count": null,
      "outputs": []
    },
    {
      "cell_type": "code",
      "metadata": {
        "trusted": true,
        "id": "2ikq2zvJm85u",
        "colab_type": "code",
        "colab": {}
      },
      "source": [
        "x.to_csv('cluster_means.csv')"
      ],
      "execution_count": null,
      "outputs": []
    },
    {
      "cell_type": "code",
      "metadata": {
        "trusted": true,
        "id": "vSY0QTXpm85y",
        "colab_type": "code",
        "colab": {}
      },
      "source": [
        "c_data.cluster.value_counts()"
      ],
      "execution_count": null,
      "outputs": []
    },
    {
      "cell_type": "code",
      "metadata": {
        "trusted": true,
        "id": "W8RV1i2zm853",
        "colab_type": "code",
        "colab": {}
      },
      "source": [
        "# add bias back in\n",
        "c_data = c_data.merge(data)"
      ],
      "execution_count": null,
      "outputs": []
    },
    {
      "cell_type": "code",
      "metadata": {
        "trusted": true,
        "id": "lqSFfO2ym856",
        "colab_type": "code",
        "colab": {}
      },
      "source": [
        "c_data.head()"
      ],
      "execution_count": null,
      "outputs": []
    },
    {
      "cell_type": "code",
      "metadata": {
        "trusted": true,
        "id": "Wvd8dOExm85-",
        "colab_type": "code",
        "colab": {}
      },
      "source": [
        "# ANOVA (is this most appropriate?) import statements\n",
        "import statsmodels.api as sm\n",
        "from statsmodels.formula.api import ols\n",
        "import scipy.stats as stats\n",
        "from statsmodels.stats.multicomp import pairwise_tukeyhsd\n",
        "from statsmodels.stats.multicomp import MultiComparison"
      ],
      "execution_count": null,
      "outputs": []
    },
    {
      "cell_type": "code",
      "metadata": {
        "trusted": true,
        "id": "ca66v-tlm86B",
        "colab_type": "code",
        "colab": {}
      },
      "source": [
        "# anova table set up\n",
        "def anova_table(aov):\n",
        "    aov['mean_sq'] = aov[:]['sum_sq']/aov[:]['df']\n",
        "    \n",
        "    aov['eta_sq'] = aov[:-1]['sum_sq']/sum(aov['sum_sq'])\n",
        "    \n",
        "    aov['omega_sq'] = (aov[:-1]['sum_sq']-(aov[:-1]['df']*aov['mean_sq'][-1]))/(sum(aov['sum_sq'])+aov['mean_sq'][-1])\n",
        "    \n",
        "    cols = ['sum_sq', 'df', 'mean_sq', 'F', 'PR(>F)', 'eta_sq', 'omega_sq']\n",
        "    aov = aov[cols]\n",
        "    return aov"
      ],
      "execution_count": null,
      "outputs": []
    },
    {
      "cell_type": "code",
      "metadata": {
        "trusted": true,
        "id": "bfKvdh01m86I",
        "colab_type": "code",
        "colab": {}
      },
      "source": [
        "results = ols(formula=\"bias ~ C(cluster)\", data=c_data).fit()\n",
        "results.summary()"
      ],
      "execution_count": null,
      "outputs": []
    },
    {
      "cell_type": "code",
      "metadata": {
        "trusted": true,
        "id": "ggj6Ju1bm86L",
        "colab_type": "code",
        "colab": {}
      },
      "source": [
        "aov_table = sm.stats.anova_lm(results, typ=2) # anova table for bias between cluster groups\n",
        "anova_table(aov_table) # anova table with effect size"
      ],
      "execution_count": null,
      "outputs": []
    },
    {
      "cell_type": "code",
      "metadata": {
        "trusted": true,
        "id": "voCoAOhym86R",
        "colab_type": "code",
        "colab": {}
      },
      "source": [
        "# if results are significant: \n",
        "\n",
        "mc = MultiComparison(c_data.bias, c_data.cluster)\n",
        "mc_results = mc.tukeyhsd(alpha=.05) # sig at .05 level\n",
        "print(mc_results)\n",
        "print(mc.groupsunique)"
      ],
      "execution_count": null,
      "outputs": []
    },
    {
      "cell_type": "markdown",
      "metadata": {
        "id": "KbT3FUQcm86U",
        "colab_type": "text"
      },
      "source": [
        "## Word Cloud by Bias "
      ]
    },
    {
      "cell_type": "code",
      "metadata": {
        "trusted": true,
        "id": "ThvMwv9Hm86V",
        "colab_type": "code",
        "colab": {}
      },
      "source": [
        "#import statements\n",
        "from wordcloud import WordCloud, STOPWORDS\n",
        "import matplotlib.pyplot as plt"
      ],
      "execution_count": null,
      "outputs": []
    },
    {
      "cell_type": "code",
      "metadata": {
        "trusted": true,
        "id": "A-tEsIEim86Y",
        "colab_type": "code",
        "colab": {}
      },
      "source": [
        "#reload data and text preprocess again"
      ],
      "execution_count": null,
      "outputs": []
    },
    {
      "cell_type": "code",
      "metadata": {
        "trusted": true,
        "id": "hSRythCBm86c",
        "colab_type": "code",
        "colab": {}
      },
      "source": [
        "data.bias.value_counts()"
      ],
      "execution_count": null,
      "outputs": []
    },
    {
      "cell_type": "code",
      "metadata": {
        "trusted": true,
        "id": "wQ8iGywkm86h",
        "colab_type": "code",
        "colab": {}
      },
      "source": [
        "# for bias = 0\n",
        "\n",
        "text = data[data['bias'] == 0].text.values\n",
        "\n",
        "wordcloud = WordCloud(\n",
        "    width = 3000,\n",
        "    height = 2000,\n",
        "    background_color = 'black',\n",
        "    stopwords = STOPWORDS).generate(str(text))\n",
        "\n",
        "fig = plt.figure(\n",
        "    figsize = (40, 30),\n",
        "    facecolor = 'k',\n",
        "    edgecolor = 'k')\n",
        "\n",
        "plt.imshow(wordcloud, interpolation = 'bilinear')\n",
        "plt.axis('off')\n",
        "plt.tight_layout(pad=0)\n",
        "plt.show()"
      ],
      "execution_count": null,
      "outputs": []
    },
    {
      "cell_type": "code",
      "metadata": {
        "trusted": true,
        "id": "FNjnhQuom86m",
        "colab_type": "code",
        "colab": {}
      },
      "source": [
        "# for bias = 1\n",
        "\n",
        "text = data[data['bias'] == 1].text.values\n",
        "\n",
        "wordcloud = WordCloud(\n",
        "    width = 3000,\n",
        "    height = 2000,\n",
        "    background_color = 'black',\n",
        "    stopwords = STOPWORDS).generate(str(text))\n",
        "\n",
        "fig = plt.figure(\n",
        "    figsize = (40, 30),\n",
        "    facecolor = 'k',\n",
        "    edgecolor = 'k')\n",
        "\n",
        "plt.imshow(wordcloud, interpolation = 'bilinear')\n",
        "plt.axis('off')\n",
        "plt.tight_layout(pad=0)\n",
        "plt.show()"
      ],
      "execution_count": null,
      "outputs": []
    }
  ]
}